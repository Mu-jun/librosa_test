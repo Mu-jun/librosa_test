{
 "cells": [
  {
   "cell_type": "code",
   "execution_count": 1,
   "id": "d1d05002",
   "metadata": {},
   "outputs": [],
   "source": [
    "import sys\n",
    "\n",
    "import numpy as np\n",
    "from PyQt5 import QtWidgets\n",
    "import pyqtgraph as pg"
   ]
  },
  {
   "cell_type": "markdown",
   "id": "ee00c8b7",
   "metadata": {},
   "source": [
    "#Sample array\n",
    "data = np.random.normal(size=(200, 200))\n",
    "data[40:80, 40:120] += 4\n",
    "data = pg.gaussianFilter(data, (15, 15))\n",
    "data += np.random.normal(size=(200, 200)) * 0.1"
   ]
  },
  {
   "cell_type": "code",
   "execution_count": 2,
   "id": "29c2456a",
   "metadata": {},
   "outputs": [
    {
     "data": {
      "text/plain": [
       "array([[[4.26330045e-03, 4.29108646e-03, 4.28294903e-03, ...,\n",
       "         2.57500378e-05, 2.40013451e-05, 2.33735009e-05],\n",
       "        [3.40397656e-03, 3.36480350e-03, 3.29754641e-03, ...,\n",
       "         1.88389131e-05, 1.70442308e-05, 1.82790754e-05],\n",
       "        [3.53455311e-03, 3.60217155e-03, 3.64290387e-03, ...,\n",
       "         1.92582847e-05, 1.85813515e-05, 1.86864727e-05],\n",
       "        ...,\n",
       "        [5.60744993e-05, 2.84751994e-03, 3.31443059e-03, ...,\n",
       "         2.98952432e-06, 1.26267730e-06, 1.23505311e-06],\n",
       "        [5.47529926e-05, 3.37503804e-03, 3.55780125e-03, ...,\n",
       "         1.91908862e-06, 4.05361834e-06, 3.50292498e-06],\n",
       "        [4.05467617e-05, 2.15049251e-03, 2.01886334e-03, ...,\n",
       "         7.13340171e-07, 5.09812890e-06, 8.38353117e-06]],\n",
       "\n",
       "       [[4.26110253e-03, 4.28976631e-03, 4.28257510e-03, ...,\n",
       "         6.48469140e-05, 6.14241508e-05, 5.85528396e-05],\n",
       "        [3.40598472e-03, 3.36715672e-03, 3.30026681e-03, ...,\n",
       "         7.11716202e-05, 6.68077846e-05, 6.49864014e-05],\n",
       "        [3.53525789e-03, 3.60242813e-03, 3.64265614e-03, ...,\n",
       "         5.45411822e-05, 5.06475699e-05, 4.95746353e-05],\n",
       "        ...,\n",
       "        [7.44177887e-05, 2.84661539e-03, 3.33060767e-03, ...,\n",
       "         3.37029232e-05, 1.65831316e-05, 2.33797928e-05],\n",
       "        [3.94534545e-05, 3.36135644e-03, 3.57678346e-03, ...,\n",
       "         8.67579183e-06, 2.33626324e-05, 2.66961015e-05],\n",
       "        [4.99135567e-05, 2.12382479e-03, 2.03722576e-03, ...,\n",
       "         1.52401899e-05, 3.16310870e-05, 4.31370354e-05]],\n",
       "\n",
       "       [[4.29693842e-03, 4.32116631e-03, 4.30852361e-03, ...,\n",
       "         2.30084595e-04, 2.31792044e-04, 2.34031017e-04],\n",
       "        [3.49670602e-03, 3.46146617e-03, 3.39615275e-03, ...,\n",
       "         2.88126175e-04, 2.84543348e-04, 2.80331878e-04],\n",
       "        [3.70444357e-03, 3.78599856e-03, 3.83936171e-03, ...,\n",
       "         3.21310305e-04, 2.94075930e-04, 2.68273201e-04],\n",
       "        ...,\n",
       "        [2.93963298e-04, 2.15058541e-03, 3.57876020e-03, ...,\n",
       "         4.23017831e-04, 3.91782436e-04, 5.25290961e-04],\n",
       "        [3.02164291e-04, 2.79792142e-03, 3.80654749e-03, ...,\n",
       "         4.22707926e-05, 1.16764866e-04, 3.64446198e-04],\n",
       "        [2.79146538e-04, 2.12223968e-03, 2.06674635e-03, ...,\n",
       "         5.18305635e-04, 3.97569558e-04, 2.59052409e-04]],\n",
       "\n",
       "       ...,\n",
       "\n",
       "       [[2.81422772e-03, 2.84236646e-03, 2.84054200e-03, ...,\n",
       "         7.95738189e-04, 8.54655751e-04, 8.92445736e-04],\n",
       "        [2.88016000e-03, 2.92662950e-03, 2.93971389e-03, ...,\n",
       "         1.15734187e-03, 1.09944923e-03, 1.03849603e-03],\n",
       "        [2.62749684e-03, 2.62169889e-03, 2.58594635e-03, ...,\n",
       "         9.01387248e-04, 8.48480209e-04, 7.99668836e-04],\n",
       "        ...,\n",
       "        [8.11866601e-04, 3.05976043e-03, 1.18269725e-03, ...,\n",
       "         1.64463569e-03, 1.30317349e-03, 1.09007605e-03],\n",
       "        [2.48694792e-04, 6.00089598e-03, 1.65502203e-03, ...,\n",
       "         1.26062077e-03, 2.68351543e-03, 1.00635795e-03],\n",
       "        [1.00414222e-03, 6.40172651e-03, 1.03275264e-02, ...,\n",
       "         6.95116469e-04, 9.89209511e-04, 1.83664006e-03]],\n",
       "\n",
       "       [[1.04975700e-03, 9.56139469e-04, 8.53043224e-04, ...,\n",
       "         8.31397716e-04, 8.27799027e-04, 8.19053908e-04],\n",
       "        [1.80097693e-03, 1.82243134e-03, 1.82834920e-03, ...,\n",
       "         8.20020563e-04, 8.07838747e-04, 7.88513804e-04],\n",
       "        [2.73078913e-03, 2.77514616e-03, 2.79498077e-03, ...,\n",
       "         5.38716908e-04, 5.11610531e-04, 4.98083478e-04],\n",
       "        ...,\n",
       "        [7.47448241e-04, 2.83284974e-03, 2.31072353e-03, ...,\n",
       "         1.51957141e-03, 1.53144845e-03, 1.52741384e-03],\n",
       "        [1.09499367e-03, 5.18119847e-03, 1.27712672e-03, ...,\n",
       "         1.90512917e-03, 1.86480302e-03, 5.39370812e-04],\n",
       "        [1.23553723e-03, 5.04956534e-03, 1.33818472e-02, ...,\n",
       "         3.12727847e-04, 5.69711498e-04, 2.92045646e-04]],\n",
       "\n",
       "       [[9.05055611e-04, 7.58200651e-04, 6.25362562e-04, ...,\n",
       "         1.69297005e-03, 1.55941979e-03, 1.42778957e-03],\n",
       "        [2.64238776e-03, 2.77097570e-03, 2.88443617e-03, ...,\n",
       "         2.48161261e-04, 2.12585757e-04, 2.59249908e-04],\n",
       "        [3.17533733e-03, 3.22526181e-03, 3.23818810e-03, ...,\n",
       "         1.36777235e-03, 1.26266957e-03, 1.16386684e-03],\n",
       "        ...,\n",
       "        [1.73980661e-03, 4.44701081e-03, 3.39867244e-03, ...,\n",
       "         2.42060330e-03, 2.12565903e-03, 2.70037004e-03],\n",
       "        [8.89106013e-04, 4.27524094e-03, 3.77339125e-03, ...,\n",
       "         1.60067715e-03, 2.72565032e-03, 2.12967652e-03],\n",
       "        [1.52197981e-03, 5.74983470e-03, 8.36895779e-03, ...,\n",
       "         1.26105279e-03, 1.39238499e-03, 1.60314015e-03]]], dtype=float32)"
      ]
     },
     "execution_count": 2,
     "metadata": {},
     "output_type": "execute_result"
    }
   ],
   "source": [
    "# cqt\n",
    "cqt_pre = np.load('./cqt.npz')\n",
    "sr=44100\n",
    "cqt_spectrum = cqt_pre['spec']\n",
    "cqt_spectrum"
   ]
  },
  {
   "cell_type": "code",
   "execution_count": 3,
   "id": "c5d9b9af",
   "metadata": {},
   "outputs": [
    {
     "ename": "SystemExit",
     "evalue": "0",
     "output_type": "error",
     "traceback": [
      "An exception has occurred, use %tb to see the full traceback.\n",
      "\u001b[1;31mSystemExit\u001b[0m\u001b[1;31m:\u001b[0m 0\n"
     ]
    },
    {
     "name": "stderr",
     "output_type": "stream",
     "text": [
      "C:\\Users\\Mu-jun\\anaconda3\\lib\\site-packages\\IPython\\core\\interactiveshell.py:3452: UserWarning: To exit: use 'exit', 'quit', or Ctrl-D.\n",
      "  warn(\"To exit: use 'exit', 'quit', or Ctrl-D.\", stacklevel=1)\n"
     ]
    }
   ],
   "source": [
    "#Sample data code omitted\n",
    "\n",
    "#GUI control object\n",
    "app = QtWidgets.QApplication(sys.argv)\n",
    "#Window creation\n",
    "window = pg.GraphicsLayoutWidget()\n",
    "#Image object creation&Set image\n",
    "image = pg.ImageItem()\n",
    "image.setImage(cqt_spectrum[1])\n",
    "#Create a box to store images&Set image object\n",
    "view_box = pg.ViewBox()\n",
    "view_box.addItem(image)\n",
    "#Plot object creation&View created above_set box\n",
    "plot = pg.PlotItem(viewBox=view_box)\n",
    "#Add plot to window\n",
    "window.addItem(plot)\n",
    "#Window display\n",
    "window.show()\n",
    "#The end of the program\n",
    "sys.exit(app.exec_())"
   ]
  },
  {
   "cell_type": "markdown",
   "id": "6dc2eff4",
   "metadata": {},
   "source": [
    "#Sample data code omitted\n",
    "\n",
    "#GUI control object\n",
    "app = QtWidgets.QApplication(sys.argv)\n",
    "#Window creation\n",
    "window = pg.GraphicsLayoutWidget()\n",
    "#Image object creation&Set image\n",
    "image = pg.ImageItem()\n",
    "image.setImage(data)\n",
    "#Create a box to store images&Set image object\n",
    "view_box = pg.ViewBox()\n",
    "view_box.addItem(image)\n",
    "#Plot object creation&View created above_set box\n",
    "plot = pg.PlotItem(viewBox=view_box)\n",
    "#Add plot to window\n",
    "window.addItem(plot)\n",
    "#Window display\n",
    "window.show()\n",
    "#The end of the program\n",
    "sys.exit(app.exec_())"
   ]
  },
  {
   "cell_type": "code",
   "execution_count": null,
   "id": "90058756",
   "metadata": {},
   "outputs": [],
   "source": []
  }
 ],
 "metadata": {
  "kernelspec": {
   "display_name": "base",
   "language": "python",
   "name": "base"
  },
  "language_info": {
   "codemirror_mode": {
    "name": "ipython",
    "version": 3
   },
   "file_extension": ".py",
   "mimetype": "text/x-python",
   "name": "python",
   "nbconvert_exporter": "python",
   "pygments_lexer": "ipython3",
   "version": "3.9.7"
  }
 },
 "nbformat": 4,
 "nbformat_minor": 5
}
