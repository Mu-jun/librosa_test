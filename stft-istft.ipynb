{
 "cells": [
  {
   "cell_type": "code",
   "execution_count": null,
   "metadata": {},
   "outputs": [],
   "source": [
    "import librosa\n",
    "import librosa.display\n",
    "import numpy as np\n",
    "import matplotlib.pyplot as plt\n",
    "from IPython.display import Audio\n",
    "import soundfile as sf"
   ]
  },
  {
   "cell_type": "code",
   "execution_count": null,
   "metadata": {},
   "outputs": [
    {
     "name": "stdout",
     "output_type": "stream",
     "text": [
      "(6849536,) 44100\n",
      "[0. 0. 0. ... 0. 0. 0.]\n"
     ]
    }
   ],
   "source": [
    "y, sr = librosa.load('Tears_of_a_witch_SFA.wav',sr=None)\n",
    "print(y.shape, sr)"
   ]
  },
  {
   "cell_type": "code",
   "execution_count": null,
   "metadata": {},
   "outputs": [],
   "source": [
    "freq_w = 3\n",
    "octave = 7\n",
    "hop_len = 512\n",
    "cqt = librosa.cqt(\n",
    "    y = y,\n",
    "    sr = sr,\n",
    "    hop_length = hop_len,\n",
    "    n_bins = 12 * octave * freq_w,\n",
    "    bins_per_octave = 12 * freq_w\n",
    ")\n",
    "print(cqt.shape)"
   ]
  },
  {
   "cell_type": "code",
   "execution_count": null,
   "metadata": {},
   "outputs": [
    {
     "name": "stdout",
     "output_type": "stream",
     "text": [
      "(252, 107025)\n",
      "-80.0 -1.9073486e-06\n"
     ]
    }
   ],
   "source": [
    "cqt_db = librosa.amplitude_to_db(\n",
    "    S= np.abs(cqt),\n",
    "    ref= np.max,\n",
    ")\n",
    "print(cqt_db.shape)\n",
    "print(cqt_db.min(),cqt_db.max())"
   ]
  },
  {
   "cell_type": "code",
   "execution_count": null,
   "metadata": {},
   "outputs": [],
   "source": [
    "# cqt note y_ticks\n",
    "notes = ['C','C#','D','D#','E','F','F#','G','G#','A','A#','B']\n",
    "y_ticks = np.arange(0,12*freq_w*octave,freq_w)\n",
    "y_list=[]\n",
    "\n",
    "for o in range(octave):\n",
    "    for i in range(12):\n",
    "        y_list.append(notes[i]+'%d'%(o+1))"
   ]
  },
  {
   "cell_type": "markdown",
   "metadata": {},
   "source": [
    "# 데시벨 스펙트럼 그래프\n",
    "fig, ax = plt.subplots(1,1,figsize=(15,15))\n",
    "img = librosa.display.specshow(\n",
    "    data= cqt_db[:,:500],\n",
    "    x_axis= \"time\",\n",
    "    sr= sr,\n",
    "    hop_length= hop_len,\n",
    "    bins_per_octave= 12*freq_w,\n",
    "    ax= ax,\n",
    "    cmap= 'jet'\n",
    ")\n",
    "ax.set_yticks(y_ticks)\n",
    "ax.set_yticklabels(y_list)\n",
    "plt.show()\n",
    "\n"
   ]
  },
  {
   "cell_type": "markdown",
   "metadata": {},
   "source": [
    "# 역변환"
   ]
  },
  {
   "cell_type": "code",
   "execution_count": null,
   "metadata": {},
   "outputs": [
    {
     "name": "stdout",
     "output_type": "stream",
     "text": [
      "(252, 107025)\n"
     ]
    }
   ],
   "source": [
    "icqt_amp = librosa.db_to_amplitude(cqt_db)\n",
    "print(icqt_amp.shape)"
   ]
  },
  {
   "cell_type": "code",
   "execution_count": null,
   "metadata": {},
   "outputs": [
    {
     "name": "stdout",
     "output_type": "stream",
     "text": [
      "(6849536,)\n"
     ]
    }
   ],
   "source": [
    "icqt = librosa.icqt(icqt_amp, sr= sr, hop_length= hop_len, bins_per_octave= 12*freq_w)\n",
    "print(icqt.shape)"
   ]
  },
  {
   "cell_type": "code",
   "execution_count": null,
   "metadata": {},
   "outputs": [],
   "source": [
    "sf.write('./output/icqt_output.wav', icqt, sr, subtype=\"PCM_24\")"
   ]
  },
  {
   "cell_type": "code",
   "execution_count": null,
   "metadata": {},
   "outputs": [],
   "source": [
    "sf.write('./output/y_output.wav', y, sr, subtype=\"PCM_24\")"
   ]
  },
  {
   "cell_type": "code",
   "execution_count": null,
   "metadata": {},
   "outputs": [],
   "source": [
    "cqt_i = librosa.icqt(cqt, sr= sr, hop_length= hop_len, bins_per_octave= 12*freq_w)\n",
    "sf.write('./output/cqt_i_output.wav', cqt_i, sr, subtype=\"PCM_24\")"
   ]
  },
  {
   "cell_type": "code",
   "execution_count": null,
   "metadata": {},
   "outputs": [],
   "source": []
  }
 ],
 "metadata": {
  "interpreter": {
   "hash": "c9c5be06856482a00280bb2577ae5696fe45b60950567c0dbf52aa7199347797"
  },
  "kernelspec": {
   "display_name": "Python 3.9.12 ('MA')",
   "language": "python",
   "name": "python3"
  },
  "language_info": {
   "codemirror_mode": {
    "name": "ipython",
    "version": 3
   },
   "file_extension": ".py",
   "mimetype": "text/x-python",
   "name": "python",
   "nbconvert_exporter": "python",
   "pygments_lexer": "ipython3",
   "version": "3.9.12"
  },
  "orig_nbformat": 4
 },
 "nbformat": 4,
 "nbformat_minor": 2
}
