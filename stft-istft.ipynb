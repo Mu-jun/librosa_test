{
 "cells": [
  {
   "cell_type": "code",
   "execution_count": 1,
   "metadata": {},
   "outputs": [],
   "source": [
    "import librosa\n",
    "import librosa.display\n",
    "import numpy as np\n",
    "import matplotlib.pyplot as plt\n",
    "from IPython.display import Audio\n",
    "import soundfile as sf"
   ]
  },
  {
   "cell_type": "code",
   "execution_count": 2,
   "metadata": {},
   "outputs": [
    {
     "name": "stdout",
     "output_type": "stream",
     "text": [
      "(6849536,) 44100\n"
     ]
    }
   ],
   "source": [
    "y, sr = librosa.load('Tears_of_a_witch_SFA.wav',sr=None)\n",
    "print(y.shape, sr)"
   ]
  },
  {
   "cell_type": "code",
   "execution_count": 5,
   "metadata": {},
   "outputs": [
    {
     "name": "stdout",
     "output_type": "stream",
     "text": [
      "(1025, 13379)\n"
     ]
    }
   ],
   "source": [
    "stft = librosa.stft(y)\n",
    "print(stft.shape)"
   ]
  },
  {
   "cell_type": "code",
   "execution_count": 15,
   "metadata": {},
   "outputs": [
    {
     "name": "stdout",
     "output_type": "stream",
     "text": [
      "(-256.57904+53.71582j) (268.1164-19.037182j)\n"
     ]
    }
   ],
   "source": [
    "print(stft.min(), stft.max())"
   ]
  },
  {
   "cell_type": "code",
   "execution_count": 6,
   "metadata": {},
   "outputs": [
    {
     "name": "stdout",
     "output_type": "stream",
     "text": [
      "(1025, 13379)\n",
      "-80.0 3.8146973e-06\n"
     ]
    }
   ],
   "source": [
    "stft_db = librosa.amplitude_to_db(\n",
    "    S= np.abs(stft),\n",
    "    ref= np.max,\n",
    ")\n",
    "print(stft_db.shape)\n",
    "print(stft_db.min(),stft_db.max())"
   ]
  },
  {
   "cell_type": "markdown",
   "metadata": {},
   "source": [
    "# 역변환"
   ]
  },
  {
   "cell_type": "code",
   "execution_count": 8,
   "metadata": {},
   "outputs": [
    {
     "name": "stdout",
     "output_type": "stream",
     "text": [
      "(1025, 13379)\n"
     ]
    }
   ],
   "source": [
    "istft_amp = librosa.db_to_amplitude(stft_db)\n",
    "print(istft_amp.shape)"
   ]
  },
  {
   "cell_type": "code",
   "execution_count": 10,
   "metadata": {},
   "outputs": [
    {
     "name": "stdout",
     "output_type": "stream",
     "text": [
      "(6849536,)\n"
     ]
    }
   ],
   "source": [
    "istft = librosa.istft(istft_amp)\n",
    "print(istft.shape)"
   ]
  },
  {
   "cell_type": "code",
   "execution_count": 14,
   "metadata": {},
   "outputs": [],
   "source": [
    "sf.write('./output/istft_output.wav', istft, sr, subtype=\"PCM_24\")"
   ]
  },
  {
   "cell_type": "code",
   "execution_count": 12,
   "metadata": {},
   "outputs": [],
   "source": [
    "sf.write('./output/y_output.wav', y, sr, subtype=\"PCM_24\")"
   ]
  },
  {
   "cell_type": "code",
   "execution_count": 13,
   "metadata": {},
   "outputs": [],
   "source": [
    "stft_i = librosa.istft(stft)\n",
    "sf.write('./output/stft_i_output.wav', stft_i, sr, subtype=\"PCM_24\")"
   ]
  }
 ],
 "metadata": {
  "interpreter": {
   "hash": "c9c5be06856482a00280bb2577ae5696fe45b60950567c0dbf52aa7199347797"
  },
  "kernelspec": {
   "display_name": "Python 3.9.12 ('MA')",
   "language": "python",
   "name": "python3"
  },
  "language_info": {
   "codemirror_mode": {
    "name": "ipython",
    "version": 3
   },
   "file_extension": ".py",
   "mimetype": "text/x-python",
   "name": "python",
   "nbconvert_exporter": "python",
   "pygments_lexer": "ipython3",
   "version": "3.9.12"
  },
  "orig_nbformat": 4
 },
 "nbformat": 4,
 "nbformat_minor": 2
}
